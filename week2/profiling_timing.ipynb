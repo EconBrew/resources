{
 "cells": [
  {
   "cell_type": "markdown",
   "id": "62dbe0d4733a025d",
   "metadata": {
    "collapsed": false,
    "jupyter": {
     "outputs_hidden": false
    },
    "slideshow": {
     "slide_type": "slide"
    }
   },
   "source": [
    "# Summary\n",
    "\n",
    "This notebook provides some tools on how to profile and time python code. This can \n",
    "help to make your code a lot faster. However, there are certain limits on how fast \n",
    "you can rewrite your code. For additional speedup you must use HPC libraries. I will \n",
    "cover this in additional notebook"
   ]
  },
  {
   "cell_type": "code",
   "execution_count": 11,
   "id": "8d17821fb407e71b",
   "metadata": {
    "ExecuteTime": {
     "end_time": "2023-11-28T16:22:29.730545815Z",
     "start_time": "2023-11-28T16:22:29.692644742Z"
    },
    "collapsed": false,
    "jupyter": {
     "outputs_hidden": false
    }
   },
   "outputs": [],
   "source": [
    "import numpy as np\n",
    "import time"
   ]
  },
  {
   "cell_type": "code",
   "execution_count": 12,
   "id": "fbc3d9b11487b45e",
   "metadata": {
    "ExecuteTime": {
     "end_time": "2023-11-28T16:22:29.909501828Z",
     "start_time": "2023-11-28T16:22:29.867674122Z"
    },
    "collapsed": false,
    "jupyter": {
     "outputs_hidden": false
    }
   },
   "outputs": [],
   "source": [
    "def utility(x, floor):\n",
    "    floored_consumption = np.where(x < floor, floor, x)\n",
    "    return np.log(floored_consumption)"
   ]
  },
  {
   "cell_type": "code",
   "execution_count": 13,
   "id": "3bd3b1f8001ec4d3",
   "metadata": {
    "ExecuteTime": {
     "end_time": "2023-11-28T16:22:30.231026329Z",
     "start_time": "2023-11-28T16:22:30.214387412Z"
    },
    "collapsed": false,
    "jupyter": {
     "outputs_hidden": false
    }
   },
   "outputs": [],
   "source": [
    "max_grid = 1_000_000\n",
    "num_grid = 1_000_000\n",
    "consumption = np.linspace(1, max_grid, num_grid)"
   ]
  },
  {
   "cell_type": "markdown",
   "id": "dfe984afb975d084",
   "metadata": {
    "collapsed": false,
    "jupyter": {
     "outputs_hidden": false
    }
   },
   "source": [
    "#### Timing"
   ]
  },
  {
   "cell_type": "markdown",
   "metadata": {},
   "source": [
    "Timing of code is the the basic building block of writing fast code. However do not waste time in the beginning of your project to make your code fast. First make it work, then make it fast. Because:\n",
    "\n",
    "> [Premature optimization is the root of all evil. - Donald Knuth](https://wiki.c2.com/?PrematureOptimization)\n",
    "\n",
    "We start with naive timing, i.e. taking the time when the code starts and when it finishes."
   ]
  },
  {
   "cell_type": "code",
   "execution_count": 14,
   "id": "b25028b774e98074",
   "metadata": {
    "ExecuteTime": {
     "end_time": "2023-11-28T16:22:32.424394561Z",
     "start_time": "2023-11-28T16:22:32.396167132Z"
    },
    "collapsed": false,
    "jupyter": {
     "outputs_hidden": false
    }
   },
   "outputs": [
    {
     "name": "stdout",
     "output_type": "stream",
     "text": [
      "Time elapsed:  0.01010 seconds\n"
     ]
    }
   ],
   "source": [
    "tic = time.time()\n",
    "utility(consumption, 1)\n",
    "toc = time.time()\n",
    "print(f\"Time elapsed: {toc - tic: .5f} seconds\")"
   ]
  },
  {
   "cell_type": "markdown",
   "metadata": {},
   "source": [
    "Jupyter notebook however has built-in magic commands that can be used to time the execution of a cell. \n",
    "Two %% always mean cell magic, and one % always means line magic.\n",
    "\n",
    "The time module runs the code once:"
   ]
  },
  {
   "cell_type": "code",
   "execution_count": 15,
   "metadata": {},
   "outputs": [
    {
     "name": "stdout",
     "output_type": "stream",
     "text": [
      "CPU times: user 15.4 ms, sys: 2.54 ms, total: 17.9 ms\n",
      "Wall time: 15.6 ms\n"
     ]
    },
    {
     "data": {
      "text/plain": [
       "array([ 0.        ,  0.69314718,  1.09861229, ..., 13.81550856,\n",
       "       13.81550956, 13.81551056])"
      ]
     },
     "execution_count": 15,
     "metadata": {},
     "output_type": "execute_result"
    }
   ],
   "source": [
    "%%time\n",
    "utility(consumption, 1)\n"
   ]
  },
  {
   "cell_type": "markdown",
   "metadata": {},
   "source": [
    "The timeit module multiple times to get an average runtime:"
   ]
  },
  {
   "cell_type": "code",
   "execution_count": 16,
   "id": "1b1fcf786565924",
   "metadata": {
    "ExecuteTime": {
     "end_time": "2023-11-28T16:22:42.175475787Z",
     "start_time": "2023-11-28T16:22:33.759228996Z"
    },
    "collapsed": false,
    "jupyter": {
     "outputs_hidden": false
    }
   },
   "outputs": [
    {
     "name": "stdout",
     "output_type": "stream",
     "text": [
      "6.07 ms ± 174 µs per loop (mean ± std. dev. of 7 runs, 100 loops each)\n"
     ]
    }
   ],
   "source": [
    "%timeit utility(consumption, 1)"
   ]
  },
  {
   "cell_type": "markdown",
   "id": "989ad128ed4f5f6f",
   "metadata": {
    "collapsed": false,
    "jupyter": {
     "outputs_hidden": false
    }
   },
   "source": [
    "### Profiling"
   ]
  },
  {
   "cell_type": "markdown",
   "metadata": {},
   "source": [
    "If you have multiple operations, you want to find out, what takes the most time. This is called profiling. Let's write down a few functions:"
   ]
  },
  {
   "cell_type": "code",
   "execution_count": 17,
   "metadata": {},
   "outputs": [],
   "source": [
    "def calc_choosen_utility(consumption, floor, disutil):\n",
    "    \"\"\"Calclulate the choosen utility for a given consumption level.\"\"\"\n",
    "    unemployed_util, work_util = calc_utilities(consumption, disutil, floor)\n",
    "    utilities = np.column_stack((unemployed_util, work_util))\n",
    "    choice = determine_optimal_choice(utilities)\n",
    "    utility_of_choice = np.take(utilities, choice)\n",
    "    return utility_of_choice\n",
    "\n",
    "\n",
    "def determine_optimal_choice(utilities):\n",
    "    \"\"\"Determine the optimal choice.\"\"\"\n",
    "    shocks = np.random.gumbel(size=(utilities.shape[0], 2))\n",
    "    choice_specific_util = utilities + shocks\n",
    "    return np.argmax(choice_specific_util, axis=1, keepdims=True)\n",
    "\n",
    "\n",
    "def calc_utilities(cons, disutil, floor):\n",
    "    \"\"\"Calculate the utilities for unemployed and employed.\"\"\"\n",
    "    floor_consumption = calc_floor_consumption(cons, floor)\n",
    "    base_utility = np.log(floor_consumption)\n",
    "    utility_work = base_utility - disutil\n",
    "    return base_utility, utility_work\n",
    "\n",
    "\n",
    "def calc_floor_consumption(cons, floor):\n",
    "    \"\"\"Ensure that the consumption is above the floor.\"\"\"\n",
    "    mask = cons < floor\n",
    "    cons[mask] = floor\n",
    "    return cons"
   ]
  },
  {
   "cell_type": "markdown",
   "metadata": {},
   "source": [
    "We will use snakeviz as the profiler. It is a browser based profiler, that can be used in jupyter notebook. It is not installed by default, so we have to install it first. It is installed via pip and specified in the environment.yml file. To use it after installation, we need to load it first."
   ]
  },
  {
   "cell_type": "code",
   "execution_count": 18,
   "id": "1edcfa406b799231",
   "metadata": {
    "ExecuteTime": {
     "end_time": "2023-11-28T16:22:42.175889646Z",
     "start_time": "2023-11-28T16:22:42.167270179Z"
    },
    "collapsed": false,
    "jupyter": {
     "outputs_hidden": false
    }
   },
   "outputs": [
    {
     "name": "stdout",
     "output_type": "stream",
     "text": [
      "The snakeviz extension is already loaded. To reload it, use:\n",
      "  %reload_ext snakeviz\n"
     ]
    }
   ],
   "source": [
    "%load_ext snakeviz"
   ]
  },
  {
   "cell_type": "code",
   "execution_count": 19,
   "id": "8691eee0222c20f5",
   "metadata": {
    "ExecuteTime": {
     "end_time": "2023-11-28T16:22:59.633843238Z",
     "start_time": "2023-11-28T16:22:56.595865335Z"
    },
    "collapsed": false,
    "jupyter": {
     "outputs_hidden": false
    }
   },
   "outputs": [
    {
     "name": "stdout",
     "output_type": "stream",
     "text": [
      " \n",
      "*** Profile stats marshalled to file '/tmp/tmpei2inz7k'.\n",
      "Opening SnakeViz in a new tab...\n",
      "snakeviz web server started on 127.0.0.1:8080; enter Ctrl-C to exit\n",
      "http://127.0.0.1:8080/snakeviz/%2Ftmp%2Ftmpei2inz7k\n"
     ]
    }
   ],
   "source": [
    "%%snakeviz -t\n",
    "\n",
    "\n",
    "floor_consumption = 0.1\n",
    "disutility = 0.5\n",
    "\n",
    "utility_of_choice = calc_choosen_utility(consumption, floor_consumption, disutility)"
   ]
  },
  {
   "cell_type": "markdown",
   "metadata": {},
   "source": [
    "However large codebasis and models would not be executed in a jupyter notebook and therefore we need to use the command line. We can use the cProfile module to profile our code. We can use the -o flag to save the output to a file. We can then use snakeviz to visualize the output. The code for the command line for an example is:\n",
    "\n",
    "```bash\n",
    "python -m cProfile -o profile.prof profiling_timing.py\n",
    "```\n",
    "\n",
    "and then to visualiuze the output:\n",
    "    \n",
    "```bash\n",
    "snakeviz profile.prof\n",
    "```"
   ]
  }
 ],
 "metadata": {
  "kernelspec": {
   "display_name": "Python 3 (ipykernel)",
   "language": "python",
   "name": "python3"
  },
  "language_info": {
   "codemirror_mode": {
    "name": "ipython",
    "version": 3
   },
   "file_extension": ".py",
   "mimetype": "text/x-python",
   "name": "python",
   "nbconvert_exporter": "python",
   "pygments_lexer": "ipython3",
   "version": "3.10.13"
  }
 },
 "nbformat": 4,
 "nbformat_minor": 5
}
