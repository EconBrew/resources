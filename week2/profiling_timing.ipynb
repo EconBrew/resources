{
 "cells": [
  {
   "cell_type": "markdown",
   "id": "62dbe0d4733a025d",
   "metadata": {
    "collapsed": false,
    "jupyter": {
     "outputs_hidden": false
    },
    "slideshow": {
     "slide_type": "slide"
    }
   },
   "source": [
    "# Summary\n",
    "\n",
    "This notebook provides some tools on how to profile and time python code. This can \n",
    "help to make your code a lot faster. However, there are certain limits on how fast \n",
    "you can rewrite your code. For additional speedup you must use HPC libraries. I will \n",
    "cover this in additional notebook"
   ]
  },
  {
   "cell_type": "code",
   "execution_count": 1,
   "id": "8d17821fb407e71b",
   "metadata": {
    "ExecuteTime": {
     "end_time": "2023-11-28T16:22:29.730545815Z",
     "start_time": "2023-11-28T16:22:29.692644742Z"
    },
    "collapsed": false,
    "jupyter": {
     "outputs_hidden": false
    }
   },
   "outputs": [],
   "source": [
    "import numpy as np\n",
    "import time"
   ]
  },
  {
   "cell_type": "code",
   "execution_count": 2,
   "id": "fbc3d9b11487b45e",
   "metadata": {
    "ExecuteTime": {
     "end_time": "2023-11-28T16:22:29.909501828Z",
     "start_time": "2023-11-28T16:22:29.867674122Z"
    },
    "collapsed": false,
    "jupyter": {
     "outputs_hidden": false
    }
   },
   "outputs": [],
   "source": [
    "def utility(x, floor):\n",
    "    floored_consumption = np.where(x < floor, floor, x)\n",
    "    return np.log(floored_consumption)"
   ]
  },
  {
   "cell_type": "code",
   "execution_count": 3,
   "id": "3bd3b1f8001ec4d3",
   "metadata": {
    "ExecuteTime": {
     "end_time": "2023-11-28T16:22:30.231026329Z",
     "start_time": "2023-11-28T16:22:30.214387412Z"
    },
    "collapsed": false,
    "jupyter": {
     "outputs_hidden": false
    }
   },
   "outputs": [],
   "source": [
    "max_grid = 1_000_000\n",
    "num_grid = 1_000_000\n",
    "consumption = np.linspace(1, max_grid, num_grid)"
   ]
  },
  {
   "cell_type": "markdown",
   "id": "dfe984afb975d084",
   "metadata": {
    "collapsed": false,
    "jupyter": {
     "outputs_hidden": false
    }
   },
   "source": [
    "#### Timing"
   ]
  },
  {
   "cell_type": "markdown",
   "metadata": {},
   "source": [
    "Timing of code is the the basic building block of writing fast code. However do not waste time in the beginning of your project to make your code fast. First make it work, then make it fast. Because:\n",
    "\n",
    "> [Premature optimization is the root of all evil. - Donald Knuth](https://wiki.c2.com/?PrematureOptimization)\n",
    "\n",
    "We start with naive timing, i.e. taking the time when the code starts and when it finishes."
   ]
  },
  {
   "cell_type": "code",
   "execution_count": 4,
   "id": "b25028b774e98074",
   "metadata": {
    "ExecuteTime": {
     "end_time": "2023-11-28T16:22:32.424394561Z",
     "start_time": "2023-11-28T16:22:32.396167132Z"
    },
    "collapsed": false,
    "jupyter": {
     "outputs_hidden": false
    }
   },
   "outputs": [
    {
     "name": "stdout",
     "output_type": "stream",
     "text": [
      "Time elapsed:  0.02897 seconds\n"
     ]
    }
   ],
   "source": [
    "tic = time.time()\n",
    "utility(consumption, 1)\n",
    "toc = time.time()\n",
    "print(f\"Time elapsed: {toc - tic: .5f} seconds\")"
   ]
  },
  {
   "cell_type": "markdown",
   "metadata": {},
   "source": [
    "Jupyter notebook however has built-in magic commands that can be used to time the execution of a cell. \n",
    "Two %% always mean cell magic, and one % always means line magic.\n",
    "\n",
    "The time module runs the code once:"
   ]
  },
  {
   "cell_type": "code",
   "execution_count": 5,
   "metadata": {},
   "outputs": [
    {
     "name": "stdout",
     "output_type": "stream",
     "text": [
      "CPU times: user 4.79 ms, sys: 5.62 ms, total: 10.4 ms\n",
      "Wall time: 9.88 ms\n"
     ]
    },
    {
     "data": {
      "text/plain": [
       "array([ 0.        ,  0.69314718,  1.09861229, ..., 13.81550856,\n",
       "       13.81550956, 13.81551056])"
      ]
     },
     "execution_count": 5,
     "metadata": {},
     "output_type": "execute_result"
    }
   ],
   "source": [
    "%%time\n",
    "utility(consumption, 1)\n"
   ]
  },
  {
   "cell_type": "markdown",
   "metadata": {},
   "source": [
    "The timeit module multiple times to get an average runtime:"
   ]
  },
  {
   "cell_type": "code",
   "execution_count": 6,
   "id": "1b1fcf786565924",
   "metadata": {
    "ExecuteTime": {
     "end_time": "2023-11-28T16:22:42.175475787Z",
     "start_time": "2023-11-28T16:22:33.759228996Z"
    },
    "collapsed": false,
    "jupyter": {
     "outputs_hidden": false
    }
   },
   "outputs": [
    {
     "name": "stdout",
     "output_type": "stream",
     "text": [
      "6.06 ms ± 128 µs per loop (mean ± std. dev. of 7 runs, 100 loops each)\n"
     ]
    }
   ],
   "source": [
    "%timeit utility(consumption, 1)"
   ]
  },
  {
   "cell_type": "markdown",
   "id": "989ad128ed4f5f6f",
   "metadata": {
    "collapsed": false,
    "jupyter": {
     "outputs_hidden": false
    }
   },
   "source": [
    "### Profiling"
   ]
  },
  {
   "cell_type": "markdown",
   "metadata": {},
   "source": [
    "If you have multiple operations, you want to find out, what takes the most time. This is called profiling. Let's write down a few functions:"
   ]
  },
  {
   "cell_type": "code",
   "execution_count": 7,
   "metadata": {},
   "outputs": [],
   "source": [
    "def calc_choosen_utility(consumption, floor, disutil):\n",
    "    \"\"\"Calclulate the choosen utility for a given consumption level.\"\"\"\n",
    "    unemployed_util, work_util = calc_utilities(consumption, disutil, floor)\n",
    "    utilities = np.column_stack((unemployed_util, work_util))\n",
    "    choice = determine_optimal_choice(utilities)\n",
    "    utility_of_choice = np.take(utilities, choice)\n",
    "    return utility_of_choice\n",
    "\n",
    "\n",
    "def determine_optimal_choice(utilities):\n",
    "    \"\"\"Determine the optimal choice.\"\"\"\n",
    "    shocks = np.random.gumbel(size=(utilities.shape[0], 2))\n",
    "    choice_specific_util = utilities + shocks\n",
    "    return np.argmax(choice_specific_util, axis=1, keepdims=True)\n",
    "\n",
    "\n",
    "def calc_utilities(cons, disutil, floor):\n",
    "    \"\"\"Calculate the utilities for unemployed and employed.\"\"\"\n",
    "    floor_consumption = calc_floor_consumption(cons, floor)\n",
    "    base_utility = np.log(floor_consumption)\n",
    "    utility_work = base_utility - disutil\n",
    "    return base_utility, utility_work\n",
    "\n",
    "\n",
    "def calc_floor_consumption(cons, floor):\n",
    "    \"\"\"Ensure that the consumption is above the floor.\"\"\"\n",
    "    mask = cons < floor\n",
    "    cons[mask] = floor\n",
    "    return cons"
   ]
  },
  {
   "cell_type": "markdown",
   "metadata": {},
   "source": [
    "We will use snakeviz as the profiler. It is a browser based profiler, that can be used in jupyter notebook. It is not installed by default, so we have to install it first. It is installed via pip and specified in the environment.yml file. To use it after installation, we need to load it first."
   ]
  },
  {
   "cell_type": "code",
   "execution_count": 8,
   "id": "1edcfa406b799231",
   "metadata": {
    "ExecuteTime": {
     "end_time": "2023-11-28T16:22:42.175889646Z",
     "start_time": "2023-11-28T16:22:42.167270179Z"
    },
    "collapsed": false,
    "jupyter": {
     "outputs_hidden": false
    }
   },
   "outputs": [],
   "source": [
    "%load_ext snakeviz"
   ]
  },
  {
   "cell_type": "code",
   "execution_count": 9,
   "id": "8691eee0222c20f5",
   "metadata": {
    "ExecuteTime": {
     "end_time": "2023-11-28T16:22:59.633843238Z",
     "start_time": "2023-11-28T16:22:56.595865335Z"
    },
    "collapsed": false,
    "jupyter": {
     "outputs_hidden": false
    }
   },
   "outputs": [
    {
     "name": "stdout",
     "output_type": "stream",
     "text": [
      " \n",
      "*** Profile stats marshalled to file '/tmp/tmpavq4rt9v'.\n",
      "Opening SnakeViz in a new tab...\n",
      "snakeviz web server started on 127.0.0.1:8080; enter Ctrl-C to exit\n",
      "http://127.0.0.1:8080/snakeviz/%2Ftmp%2Ftmpavq4rt9v\n"
     ]
    }
   ],
   "source": [
    "%%snakeviz -t\n",
    "\n",
    "\n",
    "floor_consumption = 0.1\n",
    "disutility = 0.5\n",
    "\n",
    "utility_of_choice = calc_choosen_utility(consumption, floor_consumption, disutility)"
   ]
  },
  {
   "cell_type": "markdown",
   "metadata": {},
   "source": [
    "However large codebasis and models would not be executed in a jupyter notebook and therefore we need to use the command line. We can use the cProfile module to profile our code. We can use the -o flag to save the output to a file. We can then use snakeviz to visualize the output. The code for the command line for an example is:\n",
    "\n",
    "```bash\n",
    "python -m cProfile -o profile.prof profiling_timing.py\n",
    "```\n",
    "\n",
    "and then to visualiuze the output:\n",
    "    \n",
    "```bash\n",
    "snakeviz profile.prof\n",
    "```"
   ]
  },
  {
   "cell_type": "code",
   "execution_count": null,
   "metadata": {},
   "outputs": [],
   "source": []
  },
  {
   "cell_type": "code",
   "execution_count": 10,
   "id": "fde1fc8735577ecc",
   "metadata": {
    "ExecuteTime": {
     "end_time": "2023-11-28T16:04:31.795104137Z",
     "start_time": "2023-11-28T16:04:28.081357449Z"
    },
    "collapsed": false,
    "jupyter": {
     "outputs_hidden": false
    }
   },
   "outputs": [
    {
     "ename": "NameError",
     "evalue": "name 'utility_log' is not defined",
     "output_type": "error",
     "traceback": [
      "\u001b[0;31m---------------------------------------------------------------------------\u001b[0m",
      "\u001b[0;31mNameError\u001b[0m                                 Traceback (most recent call last)",
      "\u001b[1;32m/home/maxbl/Uni/Teaching/python/EconBrew/presentation_resources/week2/profiling_timing.ipynb Cell 20\u001b[0m line \u001b[0;36m1\n\u001b[0;32m----> <a href='vscode-notebook-cell:/home/maxbl/Uni/Teaching/python/EconBrew/presentation_resources/week2/profiling_timing.ipynb#X23sZmlsZQ%3D%3D?line=0'>1</a>\u001b[0m get_ipython()\u001b[39m.\u001b[39;49mrun_line_magic(\u001b[39m'\u001b[39;49m\u001b[39mtimeit\u001b[39;49m\u001b[39m'\u001b[39;49m, \u001b[39m'\u001b[39;49m\u001b[39mutility_log(consumption)\u001b[39;49m\u001b[39m'\u001b[39;49m)\n",
      "File \u001b[0;32m~/miniforge-pypy3/envs/econbrew/lib/python3.10/site-packages/IPython/core/interactiveshell.py:2456\u001b[0m, in \u001b[0;36mInteractiveShell.run_line_magic\u001b[0;34m(self, magic_name, line, _stack_depth)\u001b[0m\n\u001b[1;32m   2454\u001b[0m     kwargs[\u001b[39m'\u001b[39m\u001b[39mlocal_ns\u001b[39m\u001b[39m'\u001b[39m] \u001b[39m=\u001b[39m \u001b[39mself\u001b[39m\u001b[39m.\u001b[39mget_local_scope(stack_depth)\n\u001b[1;32m   2455\u001b[0m \u001b[39mwith\u001b[39;00m \u001b[39mself\u001b[39m\u001b[39m.\u001b[39mbuiltin_trap:\n\u001b[0;32m-> 2456\u001b[0m     result \u001b[39m=\u001b[39m fn(\u001b[39m*\u001b[39;49margs, \u001b[39m*\u001b[39;49m\u001b[39m*\u001b[39;49mkwargs)\n\u001b[1;32m   2458\u001b[0m \u001b[39m# The code below prevents the output from being displayed\u001b[39;00m\n\u001b[1;32m   2459\u001b[0m \u001b[39m# when using magics with decorator @output_can_be_silenced\u001b[39;00m\n\u001b[1;32m   2460\u001b[0m \u001b[39m# when the last Python token in the expression is a ';'.\u001b[39;00m\n\u001b[1;32m   2461\u001b[0m \u001b[39mif\u001b[39;00m \u001b[39mgetattr\u001b[39m(fn, magic\u001b[39m.\u001b[39mMAGIC_OUTPUT_CAN_BE_SILENCED, \u001b[39mFalse\u001b[39;00m):\n",
      "File \u001b[0;32m~/miniforge-pypy3/envs/econbrew/lib/python3.10/site-packages/IPython/core/magics/execution.py:1185\u001b[0m, in \u001b[0;36mExecutionMagics.timeit\u001b[0;34m(self, line, cell, local_ns)\u001b[0m\n\u001b[1;32m   1183\u001b[0m \u001b[39mfor\u001b[39;00m index \u001b[39min\u001b[39;00m \u001b[39mrange\u001b[39m(\u001b[39m0\u001b[39m, \u001b[39m10\u001b[39m):\n\u001b[1;32m   1184\u001b[0m     number \u001b[39m=\u001b[39m \u001b[39m10\u001b[39m \u001b[39m*\u001b[39m\u001b[39m*\u001b[39m index\n\u001b[0;32m-> 1185\u001b[0m     time_number \u001b[39m=\u001b[39m timer\u001b[39m.\u001b[39;49mtimeit(number)\n\u001b[1;32m   1186\u001b[0m     \u001b[39mif\u001b[39;00m time_number \u001b[39m>\u001b[39m\u001b[39m=\u001b[39m \u001b[39m0.2\u001b[39m:\n\u001b[1;32m   1187\u001b[0m         \u001b[39mbreak\u001b[39;00m\n",
      "File \u001b[0;32m~/miniforge-pypy3/envs/econbrew/lib/python3.10/site-packages/IPython/core/magics/execution.py:173\u001b[0m, in \u001b[0;36mTimer.timeit\u001b[0;34m(self, number)\u001b[0m\n\u001b[1;32m    171\u001b[0m gc\u001b[39m.\u001b[39mdisable()\n\u001b[1;32m    172\u001b[0m \u001b[39mtry\u001b[39;00m:\n\u001b[0;32m--> 173\u001b[0m     timing \u001b[39m=\u001b[39m \u001b[39mself\u001b[39;49m\u001b[39m.\u001b[39;49minner(it, \u001b[39mself\u001b[39;49m\u001b[39m.\u001b[39;49mtimer)\n\u001b[1;32m    174\u001b[0m \u001b[39mfinally\u001b[39;00m:\n\u001b[1;32m    175\u001b[0m     \u001b[39mif\u001b[39;00m gcold:\n",
      "File \u001b[0;32m<magic-timeit>:1\u001b[0m, in \u001b[0;36minner\u001b[0;34m(_it, _timer)\u001b[0m\n",
      "\u001b[0;31mNameError\u001b[0m: name 'utility_log' is not defined"
     ]
    }
   ],
   "source": [
    "%timeit utility_log(consumption)"
   ]
  },
  {
   "cell_type": "code",
   "execution_count": null,
   "id": "6721cf6de3b9f7f2",
   "metadata": {
    "ExecuteTime": {
     "end_time": "2023-11-28T16:04:31.795941273Z",
     "start_time": "2023-11-28T16:04:31.788567128Z"
    },
    "collapsed": false,
    "jupyter": {
     "outputs_hidden": false
    }
   },
   "outputs": [],
   "source": [
    "@nb.jit(nopython=True)\n",
    "def utility_log_numba(x):\n",
    "    for i in range(len(x)):\n",
    "        x[i] = np.log(x[i])\n",
    "    return x"
   ]
  },
  {
   "cell_type": "code",
   "execution_count": null,
   "id": "e5aed094ff8250d2",
   "metadata": {
    "ExecuteTime": {
     "end_time": "2023-11-28T16:04:35.188301276Z",
     "start_time": "2023-11-28T16:04:31.797665742Z"
    },
    "collapsed": false,
    "jupyter": {
     "outputs_hidden": false
    }
   },
   "outputs": [
    {
     "name": "stdout",
     "output_type": "stream",
     "text": [
      "3.86 ms ± 43.8 µs per loop (mean ± std. dev. of 7 runs, 100 loops each)\n"
     ]
    }
   ],
   "source": [
    "utility_log_numba(consumption)\n",
    "%timeit utility_log_numba(consumption)"
   ]
  },
  {
   "cell_type": "markdown",
   "id": "1b9c77b7fa68f00a",
   "metadata": {
    "collapsed": false,
    "jupyter": {
     "outputs_hidden": false
    }
   },
   "source": [
    "# Introduce an consumption floor"
   ]
  },
  {
   "cell_type": "code",
   "execution_count": null,
   "id": "a3d35864b941223",
   "metadata": {
    "ExecuteTime": {
     "end_time": "2023-11-28T16:04:35.188926601Z",
     "start_time": "2023-11-28T16:04:35.180915009Z"
    },
    "collapsed": false,
    "jupyter": {
     "outputs_hidden": false
    }
   },
   "outputs": [],
   "source": [
    "def utility_log_floor(x, floor):\n",
    "    return np.log(np.maximum(x, floor))\n",
    "\n",
    "@nb.njit()\n",
    "def utility_log_floor_numba(x, floor):\n",
    "    for i in range(len(x)):\n",
    "        x[i] = np.log(max(x[i], floor))\n",
    "    return x"
   ]
  },
  {
   "cell_type": "code",
   "execution_count": null,
   "id": "27d744feccd09f4b",
   "metadata": {
    "ExecuteTime": {
     "end_time": "2023-11-28T16:04:41.108853521Z",
     "start_time": "2023-11-28T16:04:35.185898552Z"
    },
    "collapsed": false,
    "jupyter": {
     "outputs_hidden": false
    }
   },
   "outputs": [
    {
     "name": "stdout",
     "output_type": "stream",
     "text": [
      "7.26 ms ± 159 µs per loop (mean ± std. dev. of 7 runs, 100 loops each)\n"
     ]
    }
   ],
   "source": [
    "%timeit utility_log_floor(consumption, 1)"
   ]
  },
  {
   "cell_type": "code",
   "execution_count": null,
   "id": "e9fbba2ddaf036c6",
   "metadata": {
    "ExecuteTime": {
     "end_time": "2023-11-28T16:05:02.455408024Z",
     "start_time": "2023-11-28T16:04:59.156338687Z"
    },
    "collapsed": false,
    "jupyter": {
     "outputs_hidden": false
    }
   },
   "outputs": [
    {
     "name": "stdout",
     "output_type": "stream",
     "text": [
      "3.91 ms ± 16.6 µs per loop (mean ± std. dev. of 7 runs, 100 loops each)\n"
     ]
    }
   ],
   "source": [
    "utility_log_floor(consumption, 1)\n",
    "%timeit utility_log_floor_numba(consumption, 1)"
   ]
  },
  {
   "cell_type": "code",
   "execution_count": null,
   "id": "ce1d52465168252",
   "metadata": {
    "collapsed": false,
    "jupyter": {
     "outputs_hidden": false
    }
   },
   "outputs": [],
   "source": []
  }
 ],
 "metadata": {
  "kernelspec": {
   "display_name": "Python 3 (ipykernel)",
   "language": "python",
   "name": "python3"
  },
  "language_info": {
   "codemirror_mode": {
    "name": "ipython",
    "version": 3
   },
   "file_extension": ".py",
   "mimetype": "text/x-python",
   "name": "python",
   "nbconvert_exporter": "python",
   "pygments_lexer": "ipython3",
   "version": "3.10.13"
  }
 },
 "nbformat": 4,
 "nbformat_minor": 5
}
