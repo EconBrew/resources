{
 "cells": [
  {
   "cell_type": "markdown",
   "source": [
    "# Introduction\n",
    "\n",
    "This notebook provides some tools on how to profile and time python code. This can \n",
    "help to make your code a lot faster. However, there are certain limits on how fast \n",
    "you can rewrite your code. For additional speedup you must use HPC libraries. I will \n",
    "cover two in this notebook: Numba and Jax. Both have their advantages, not one \n",
    "dominates the other and it is up to hardware, personal use and familiarity which is \n",
    "more efficient to use.\n",
    "\n",
    "## Part 1: Profiling and timing"
   ],
   "metadata": {
    "collapsed": false
   },
   "id": "62dbe0d4733a025d"
  },
  {
   "cell_type": "code",
   "execution_count": 1,
   "outputs": [],
   "source": [
    "import numpy as np\n",
    "import time"
   ],
   "metadata": {
    "collapsed": false,
    "ExecuteTime": {
     "end_time": "2023-11-28T16:22:29.730545815Z",
     "start_time": "2023-11-28T16:22:29.692644742Z"
    }
   },
   "id": "8d17821fb407e71b"
  },
  {
   "cell_type": "code",
   "execution_count": 2,
   "outputs": [],
   "source": [
    "def utility(x, floor):\n",
    "    floored_consumption = np.where(x < floor, floor, x)\n",
    "    return np.log(floored_consumption)"
   ],
   "metadata": {
    "collapsed": false,
    "ExecuteTime": {
     "end_time": "2023-11-28T16:22:29.909501828Z",
     "start_time": "2023-11-28T16:22:29.867674122Z"
    }
   },
   "id": "fbc3d9b11487b45e"
  },
  {
   "cell_type": "code",
   "execution_count": 3,
   "outputs": [],
   "source": [
    "max_grid = 1_000_000\n",
    "num_grid = 1_000_000\n",
    "consumption = np.linspace(1, max_grid, num_grid)"
   ],
   "metadata": {
    "collapsed": false,
    "ExecuteTime": {
     "end_time": "2023-11-28T16:22:30.231026329Z",
     "start_time": "2023-11-28T16:22:30.214387412Z"
    }
   },
   "id": "3bd3b1f8001ec4d3"
  },
  {
   "cell_type": "markdown",
   "source": [
    "#### Timing"
   ],
   "metadata": {
    "collapsed": false
   },
   "id": "dfe984afb975d084"
  },
  {
   "cell_type": "code",
   "execution_count": 4,
   "outputs": [
    {
     "name": "stdout",
     "output_type": "stream",
     "text": [
      "Time elapsed:  0.01913 seconds\n"
     ]
    }
   ],
   "source": [
    "# Naive timing\n",
    "tic = time.time()\n",
    "utility(consumption, 1)\n",
    "toc = time.time()\n",
    "print(f\"Time elapsed: {toc - tic: .5f} seconds\")"
   ],
   "metadata": {
    "collapsed": false,
    "ExecuteTime": {
     "end_time": "2023-11-28T16:22:32.424394561Z",
     "start_time": "2023-11-28T16:22:32.396167132Z"
    }
   },
   "id": "b25028b774e98074"
  },
  {
   "cell_type": "code",
   "execution_count": 5,
   "outputs": [
    {
     "name": "stdout",
     "output_type": "stream",
     "text": [
      "10.2 ms ± 268 µs per loop (mean ± std. dev. of 7 runs, 100 loops each)\n"
     ]
    }
   ],
   "source": [
    "# Timeit module\n",
    "%timeit utility(consumption, 1)"
   ],
   "metadata": {
    "collapsed": false,
    "ExecuteTime": {
     "end_time": "2023-11-28T16:22:42.175475787Z",
     "start_time": "2023-11-28T16:22:33.759228996Z"
    }
   },
   "id": "1b1fcf786565924"
  },
  {
   "cell_type": "markdown",
   "source": [
    "### Profiling"
   ],
   "metadata": {
    "collapsed": false
   },
   "id": "989ad128ed4f5f6f"
  },
  {
   "cell_type": "code",
   "execution_count": 6,
   "outputs": [],
   "source": [
    "%load_ext snakeviz"
   ],
   "metadata": {
    "collapsed": false,
    "ExecuteTime": {
     "end_time": "2023-11-28T16:22:42.175889646Z",
     "start_time": "2023-11-28T16:22:42.167270179Z"
    }
   },
   "id": "1edcfa406b799231"
  },
  {
   "cell_type": "code",
   "execution_count": 7,
   "outputs": [
    {
     "name": "stdout",
     "output_type": "stream",
     "text": [
      " \n",
      "*** Profile stats marshalled to file '/tmp/tmpn2n9jckl'.\n",
      "Opening SnakeViz in a new tab...\n"
     ]
    }
   ],
   "source": [
    "%snakeviz -t utility(consumption, 1)"
   ],
   "metadata": {
    "collapsed": false,
    "ExecuteTime": {
     "end_time": "2023-11-28T16:22:59.633843238Z",
     "start_time": "2023-11-28T16:22:56.595865335Z"
    }
   },
   "id": "8691eee0222c20f5"
  },
  {
   "cell_type": "code",
   "execution_count": 1,
   "id": "initial_id",
   "metadata": {
    "collapsed": true,
    "ExecuteTime": {
     "end_time": "2023-11-28T16:04:27.719164002Z",
     "start_time": "2023-11-28T16:04:27.492705176Z"
    }
   },
   "outputs": [],
   "source": [
    "import numpy as np\n",
    "import numba as nb"
   ]
  },
  {
   "cell_type": "code",
   "execution_count": 2,
   "outputs": [],
   "source": [
    "def utility_log(x):\n",
    "    return np.log(x)"
   ],
   "metadata": {
    "collapsed": false,
    "ExecuteTime": {
     "end_time": "2023-11-28T16:04:27.752662075Z",
     "start_time": "2023-11-28T16:04:27.721470702Z"
    }
   },
   "id": "eb4fb14d8a077a5a"
  },
  {
   "cell_type": "code",
   "execution_count": 3,
   "outputs": [],
   "source": [
    "max_grid = 1000\n",
    "num_grid = 1000000\n",
    "consumption = np.linspace(1, max_grid, num_grid)"
   ],
   "metadata": {
    "collapsed": false,
    "ExecuteTime": {
     "end_time": "2023-11-28T16:04:27.909575385Z",
     "start_time": "2023-11-28T16:04:27.865511216Z"
    }
   },
   "id": "a63bb05712787b40"
  },
  {
   "cell_type": "code",
   "execution_count": null,
   "outputs": [],
   "source": [],
   "metadata": {
    "collapsed": false
   },
   "id": "52cbc7521c08b0a9"
  },
  {
   "cell_type": "code",
   "execution_count": null,
   "outputs": [],
   "source": [],
   "metadata": {
    "collapsed": false
   },
   "id": "23612dffc6084ac2"
  },
  {
   "cell_type": "code",
   "execution_count": null,
   "outputs": [],
   "source": [],
   "metadata": {
    "collapsed": false
   },
   "id": "cd86ba79a4019701"
  },
  {
   "cell_type": "code",
   "execution_count": 4,
   "outputs": [
    {
     "name": "stdout",
     "output_type": "stream",
     "text": [
      "4.51 ms ± 243 µs per loop (mean ± std. dev. of 7 runs, 100 loops each)\n"
     ]
    }
   ],
   "source": [
    "%timeit utility_log(consumption)"
   ],
   "metadata": {
    "collapsed": false,
    "ExecuteTime": {
     "end_time": "2023-11-28T16:04:31.795104137Z",
     "start_time": "2023-11-28T16:04:28.081357449Z"
    }
   },
   "id": "fde1fc8735577ecc"
  },
  {
   "cell_type": "code",
   "execution_count": 5,
   "outputs": [],
   "source": [
    "@nb.jit(nopython=True)\n",
    "def utility_log_numba(x):\n",
    "    for i in range(len(x)):\n",
    "        x[i] = np.log(x[i])\n",
    "    return x"
   ],
   "metadata": {
    "collapsed": false,
    "ExecuteTime": {
     "end_time": "2023-11-28T16:04:31.795941273Z",
     "start_time": "2023-11-28T16:04:31.788567128Z"
    }
   },
   "id": "6721cf6de3b9f7f2"
  },
  {
   "cell_type": "code",
   "execution_count": 6,
   "outputs": [
    {
     "name": "stdout",
     "output_type": "stream",
     "text": [
      "3.86 ms ± 43.8 µs per loop (mean ± std. dev. of 7 runs, 100 loops each)\n"
     ]
    }
   ],
   "source": [
    "utility_log_numba(consumption)\n",
    "%timeit utility_log_numba(consumption)"
   ],
   "metadata": {
    "collapsed": false,
    "ExecuteTime": {
     "end_time": "2023-11-28T16:04:35.188301276Z",
     "start_time": "2023-11-28T16:04:31.797665742Z"
    }
   },
   "id": "e5aed094ff8250d2"
  },
  {
   "cell_type": "markdown",
   "source": [
    "# Introduce an consumption floor"
   ],
   "metadata": {
    "collapsed": false
   },
   "id": "1b9c77b7fa68f00a"
  },
  {
   "cell_type": "code",
   "execution_count": 7,
   "outputs": [],
   "source": [
    "def utility_log_floor(x, floor):\n",
    "    return np.log(np.maximum(x, floor))\n",
    "\n",
    "@nb.njit()\n",
    "def utility_log_floor_numba(x, floor):\n",
    "    for i in range(len(x)):\n",
    "        x[i] = np.log(max(x[i], floor))\n",
    "    return x"
   ],
   "metadata": {
    "collapsed": false,
    "ExecuteTime": {
     "end_time": "2023-11-28T16:04:35.188926601Z",
     "start_time": "2023-11-28T16:04:35.180915009Z"
    }
   },
   "id": "a3d35864b941223"
  },
  {
   "cell_type": "code",
   "execution_count": 8,
   "outputs": [
    {
     "name": "stdout",
     "output_type": "stream",
     "text": [
      "7.26 ms ± 159 µs per loop (mean ± std. dev. of 7 runs, 100 loops each)\n"
     ]
    }
   ],
   "source": [
    "%timeit utility_log_floor(consumption, 1)"
   ],
   "metadata": {
    "collapsed": false,
    "ExecuteTime": {
     "end_time": "2023-11-28T16:04:41.108853521Z",
     "start_time": "2023-11-28T16:04:35.185898552Z"
    }
   },
   "id": "27d744feccd09f4b"
  },
  {
   "cell_type": "code",
   "execution_count": 9,
   "outputs": [
    {
     "name": "stdout",
     "output_type": "stream",
     "text": [
      "3.91 ms ± 16.6 µs per loop (mean ± std. dev. of 7 runs, 100 loops each)\n"
     ]
    }
   ],
   "source": [
    "utility_log_floor(consumption, 1)\n",
    "%timeit utility_log_floor_numba(consumption, 1)"
   ],
   "metadata": {
    "collapsed": false,
    "ExecuteTime": {
     "end_time": "2023-11-28T16:05:02.455408024Z",
     "start_time": "2023-11-28T16:04:59.156338687Z"
    }
   },
   "id": "e9fbba2ddaf036c6"
  },
  {
   "cell_type": "code",
   "execution_count": null,
   "outputs": [],
   "source": [],
   "metadata": {
    "collapsed": false
   },
   "id": "ce1d52465168252"
  }
 ],
 "metadata": {
  "kernelspec": {
   "display_name": "Python 3",
   "language": "python",
   "name": "python3"
  },
  "language_info": {
   "codemirror_mode": {
    "name": "ipython",
    "version": 2
   },
   "file_extension": ".py",
   "mimetype": "text/x-python",
   "name": "python",
   "nbconvert_exporter": "python",
   "pygments_lexer": "ipython2",
   "version": "2.7.6"
  }
 },
 "nbformat": 4,
 "nbformat_minor": 5
}
