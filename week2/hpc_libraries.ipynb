{
 "cells": [
  {
   "cell_type": "markdown",
   "metadata": {},
   "source": [
    "# Summary\n",
    "\n",
    "This notebook gives an introduction to two HPC-libraries in python: Numba and Jax. Both have their advantages, not one \n",
    "dominates the other and it is up to hardware, personal taste and familiarity which is more efficient to use. What they have in common is [just in time compilation](https://en.wikipedia.org/wiki/Just-in-time_compilation), which is a huge advantage over pure python.\n",
    "\n",
    "\n",
    "We will look at the same value function iteraiton problem as last week:"
   ]
  },
  {
   "cell_type": "code",
   "execution_count": 1,
   "metadata": {},
   "outputs": [],
   "source": [
    "import numpy as np"
   ]
  },
  {
   "cell_type": "code",
   "execution_count": 2,
   "metadata": {},
   "outputs": [],
   "source": [
    "beta_factor  = 0.95\n",
    "grid_x = np.linspace(0.1, 1, 100)\n",
    "num_iterations = 100"
   ]
  },
  {
   "cell_type": "code",
   "execution_count": 3,
   "id": "fde1fc8735577ecc",
   "metadata": {
    "ExecuteTime": {
     "end_time": "2023-11-28T16:04:31.795104137Z",
     "start_time": "2023-11-28T16:04:28.081357449Z"
    },
    "collapsed": false,
    "jupyter": {
     "outputs_hidden": false
    }
   },
   "outputs": [],
   "source": [
    "def value_function_iteration(grid, num_iter, beta):\n",
    "    value = np.sqrt(grid)\n",
    "    for i in range(num_iter):\n",
    "        value = single_iteration(grid, beta, value)\n",
    "    return value\n",
    "\n",
    "\n",
    "def single_iteration(grid, beta, v_old):\n",
    "    v_new = np.zeros_like(v_old)\n",
    "    for id_x, x in enumerate(grid):\n",
    "        mask = grid <= x\n",
    "        v_new[id_x] = np.max((np.sqrt(x - grid[mask]) + beta * v_old[mask]))\n",
    "    return v_new"
   ]
  },
  {
   "cell_type": "code",
   "execution_count": 4,
   "metadata": {},
   "outputs": [
    {
     "name": "stdout",
     "output_type": "stream",
     "text": [
      "82.8 ms ± 808 µs per loop (mean ± std. dev. of 7 runs, 10 loops each)\n"
     ]
    }
   ],
   "source": [
    "%timeit value_function_iteration(grid_x, num_iterations, beta_factor)"
   ]
  },
  {
   "cell_type": "markdown",
   "metadata": {},
   "source": [
    "This code version was already a more efficent version, than just writing everything in loops. An complete loop version would be even slower."
   ]
  },
  {
   "cell_type": "code",
   "execution_count": 5,
   "metadata": {},
   "outputs": [],
   "source": [
    "def value_function_iteration_all_loops(grid, num_iter, beta):\n",
    "    value = np.sqrt(grid)\n",
    "    for i in range(num_iter):\n",
    "        value = single_iteration_all_loops(grid, beta, value)\n",
    "    return value\n",
    "\n",
    "def single_iteration_all_loops(grid, beta, v_old):\n",
    "    v_new = np.empty_like(v_old)\n",
    "    for id_x, x in enumerate(grid):\n",
    "        for id_x_prime, x_prime in enumerate(grid):\n",
    "            array_to_max = np.zeros_like(grid)\n",
    "            if x_prime <= x:\n",
    "                array_to_max[id_x_prime] = np.sqrt(x - x_prime) + beta * v_old[id_x_prime]\n",
    "            v_new[id_x] = np.max(array_to_max)\n",
    "    return v_new\n"
   ]
  },
  {
   "cell_type": "code",
   "execution_count": 6,
   "metadata": {},
   "outputs": [
    {
     "name": "stdout",
     "output_type": "stream",
     "text": [
      "4.64 s ± 29.5 ms per loop (mean ± std. dev. of 7 runs, 1 loop each)\n"
     ]
    }
   ],
   "source": [
    "%timeit value_function_iteration_all_loops(grid_x, num_iterations, beta_factor)"
   ]
  },
  {
   "cell_type": "markdown",
   "metadata": {},
   "source": [
    "So always try to use numpy functions, when possible. They are usually faster than loops. If you can't avoid loops, then you can use numba:"
   ]
  },
  {
   "cell_type": "code",
   "execution_count": 7,
   "metadata": {},
   "outputs": [],
   "source": [
    "import numba as nb"
   ]
  },
  {
   "cell_type": "code",
   "execution_count": 8,
   "metadata": {},
   "outputs": [],
   "source": [
    "@nb.jit(nopython=True)\n",
    "def value_function_iteration_numba(grid, num_iter, beta):\n",
    "    value = np.sqrt(grid)\n",
    "    for i in range(num_iter):\n",
    "        value = single_iteration_numba(grid, beta, value)\n",
    "    return value\n",
    "\n",
    "@nb.jit(nopython=True)\n",
    "def single_iteration_numba(grid, beta, v_old):\n",
    "    v_new = np.zeros_like(v_old)\n",
    "    for id_x, x in enumerate(grid):\n",
    "        mask = grid <= x\n",
    "        v_new[id_x] = np.max((np.sqrt(x - grid[mask]) + beta * v_old[mask]))\n",
    "    return v_new"
   ]
  },
  {
   "cell_type": "code",
   "execution_count": 9,
   "metadata": {},
   "outputs": [
    {
     "name": "stdout",
     "output_type": "stream",
     "text": [
      "3.48 ms ± 57.7 µs per loop (mean ± std. dev. of 7 runs, 100 loops each)\n"
     ]
    }
   ],
   "source": [
    "value_function_iteration_numba(grid_x, num_iterations, beta_factor)\n",
    "%timeit value_function_iteration_numba(grid_x, num_iterations, beta_factor)"
   ]
  },
  {
   "cell_type": "markdown",
   "id": "ce1d52465168252",
   "metadata": {
    "collapsed": false,
    "jupyter": {
     "outputs_hidden": false
    }
   },
   "source": [
    "Even though numba has worked right of the box here, it does not always do that. Error messages can be hard to debug and it takes some experience. With numba you can always start small and then escalate your code by adding more components. As soon as it fails you will see what the issue is.\n",
    "\n",
    "Another library you can use is jax by google. It is made for machine and deep learning and provides a powerfull framework. There are great resources, youtube tutorials and blog articles about the use of jax. As it is the main workhourse for google companies like DeepMind, there is a lot of support and development going on."
   ]
  },
  {
   "cell_type": "code",
   "execution_count": 10,
   "metadata": {},
   "outputs": [],
   "source": [
    "import jax\n",
    "import jax.numpy as jnp"
   ]
  },
  {
   "cell_type": "code",
   "execution_count": 11,
   "metadata": {},
   "outputs": [],
   "source": [
    "def value_function_iteration_jax(grid, beta):\n",
    "    value = jnp.sqrt(grid)\n",
    "    iter_func = jax.vmap(single_iteration_jax, in_axes=(0, 0, None, None, None))\n",
    "\n",
    "    for i in range(100):\n",
    "        value = iter_func(grid, value, grid, beta, value)\n",
    "    return value\n",
    "\n",
    "\n",
    "def single_iteration_jax(x, v_old_entry, grid, beta, v_old):\n",
    "    v_new = jnp.max(jnp.sqrt(jnp.maximum(x - grid, 0)) + beta * v_old)\n",
    "    return v_new"
   ]
  },
  {
   "cell_type": "code",
   "execution_count": 12,
   "metadata": {},
   "outputs": [],
   "source": [
    "jax_jit_value_func = jax.jit(value_function_iteration_jax)"
   ]
  },
  {
   "cell_type": "code",
   "execution_count": 13,
   "metadata": {},
   "outputs": [
    {
     "name": "stdout",
     "output_type": "stream",
     "text": [
      "1.14 ms ± 26.5 µs per loop (mean ± std. dev. of 7 runs, 1,000 loops each)\n"
     ]
    }
   ],
   "source": [
    "jax_jit_value_func(grid_x, beta_factor)\n",
    "%timeit jax_jit_value_func(grid_x, beta_factor)"
   ]
  },
  {
   "cell_type": "markdown",
   "metadata": {},
   "source": [
    "Not only is jax slightly faster than numba in this case, it has a lot of other advantages:\n",
    "\n",
    "- Code can be executed directly on GPUs and TPUs (optimization might be different - RAM vs. computation time)\n",
    "- Error messages are much easier to read\n",
    "- Jax supports without performance loss all python containers\n",
    "- Jax supports automatic differentiation\n",
    "- Jax rewrites your code and optimizes it for you"
   ]
  },
  {
   "cell_type": "markdown",
   "metadata": {},
   "source": []
  }
 ],
 "metadata": {
  "kernelspec": {
   "display_name": "Python 3 (ipykernel)",
   "language": "python",
   "name": "python3"
  },
  "language_info": {
   "codemirror_mode": {
    "name": "ipython",
    "version": 3
   },
   "file_extension": ".py",
   "mimetype": "text/x-python",
   "name": "python",
   "nbconvert_exporter": "python",
   "pygments_lexer": "ipython3",
   "version": "3.10.13"
  }
 },
 "nbformat": 4,
 "nbformat_minor": 5
}
